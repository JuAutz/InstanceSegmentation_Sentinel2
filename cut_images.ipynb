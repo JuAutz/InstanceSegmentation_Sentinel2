{
 "cells": [
  {
   "cell_type": "code",
   "execution_count": 2,
   "metadata": {},
   "outputs": [],
   "source": [
    "from PIL import Image\n",
    "import json\n"
   ]
  },
  {
   "cell_type": "code",
   "execution_count": 3,
   "metadata": {},
   "outputs": [],
   "source": [
    "def prep_image(imagefile,targetsize,id_counter_base=100,greyscale=False):\n",
    "\n",
    "    img = Image.open('data/' +imagefile)\n",
    "    if greyscale:\n",
    "        img=img.convert('L')\n",
    "    width, height = img.size\n",
    "    annotations_dict={ \"info\": {},\"licenses\": [],\"categories\": [{\"supercategory\": \"AgriculturalFields\",\"id\": 1,\"name\": \"agfields_singleclass\"}], \"images\":[]}\n",
    "    id_counter=id_counter_base\n",
    "    # Save Chops of original image\n",
    "    for x0 in range(0, width, targetsize):\n",
    "       for y0 in range(0, height, targetsize):\n",
    "        if x0+targetsize <  width and  y0+targetsize < height:\n",
    "            box = (x0, y0,\n",
    "                     x0+targetsize if x0+targetsize <  width else  width - 1,\n",
    "                     y0+targetsize if y0+targetsize < height else height - 1)\n",
    "            #print('%s %s' % (imagefile, box))\n",
    "            name='cut_image.%s.x%03d.y%03d.jpeg' % (imagefile.replace('.jpeg',''), x0, y0)\n",
    "            img.crop(box).save('output/preprocessed/images/'+name)\n",
    "            annotations_dict['images'].append({\"file_name\": name,\n",
    "            \"id\": id_counter,\n",
    "            \"height\": targetsize,\n",
    "            \"width\": targetsize\n",
    "                                              })\n",
    "            id_counter=id_counter+1\n",
    "    with open('output/preprocessed/annotations/'+imagefile.replace('.jpeg','')+'.json', 'w') as outfile:\n",
    "        json.dump(annotations_dict, outfile,indent=4)\n",
    "                \n",
    "                \n",
    "                \n",
    "                \n",
    "    "
   ]
  },
  {
   "cell_type": "code",
   "execution_count": 4,
   "metadata": {},
   "outputs": [],
   "source": [
    "prep_image('too_big.jpeg',256,greyscale=True)"
   ]
  },
  {
   "cell_type": "code",
   "execution_count": 5,
   "metadata": {},
   "outputs": [],
   "source": [
    "import os\n",
    "def greyscale_converter(image_folder):\n",
    "    file_list=os.listdir(image_folder)\n",
    "    for file in file_list:\n",
    "        img=Image.open(file).convert('L').save(file)"
   ]
  },
  {
   "cell_type": "code",
   "execution_count": null,
   "metadata": {},
   "outputs": [],
   "source": []
  }
 ],
 "metadata": {
  "kernelspec": {
   "display_name": "Python 3",
   "language": "python",
   "name": "python3"
  },
  "language_info": {
   "codemirror_mode": {
    "name": "ipython",
    "version": 3
   },
   "file_extension": ".py",
   "mimetype": "text/x-python",
   "name": "python",
   "nbconvert_exporter": "python",
   "pygments_lexer": "ipython3",
   "version": "3.8.2"
  }
 },
 "nbformat": 4,
 "nbformat_minor": 2
}
